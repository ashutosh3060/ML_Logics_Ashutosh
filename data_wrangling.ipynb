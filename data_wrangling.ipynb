{
  "nbformat": 4,
  "nbformat_minor": 0,
  "metadata": {
    "colab": {
      "name": "data-wrangling.ipynb",
      "provenance": [],
      "collapsed_sections": [],
      "toc_visible": true,
      "authorship_tag": "ABX9TyPJGmOE3XdTu0qQnkYfnYz6",
      "include_colab_link": true
    },
    "kernelspec": {
      "name": "python3",
      "display_name": "Python 3"
    }
  },
  "cells": [
    {
      "cell_type": "markdown",
      "metadata": {
        "id": "view-in-github",
        "colab_type": "text"
      },
      "source": [
        "<a href=\"https://colab.research.google.com/github/ashutosh3060/python-tricks/blob/master/data_wrangling.ipynb\" target=\"_parent\"><img src=\"https://colab.research.google.com/assets/colab-badge.svg\" alt=\"Open In Colab\"/></a>"
      ]
    },
    {
      "cell_type": "markdown",
      "metadata": {
        "id": "Y11yewkO6NTN",
        "colab_type": "text"
      },
      "source": [
        "## Table of Contents\n",
        "\n",
        "1. Create Dataframe:   \n",
        "a) in Pandas    \n",
        "b) from Dictionary   \n",
        "c) from list   \n",
        "2. Column:     \n",
        "a) Create new columns       \n",
        "b) Rename columns      \n",
        "c) Drop Columns    \n",
        "d)  \n",
        "3. Index:   \n",
        "a) loc   \n",
        "b) iloc   \n",
        "4. Subset Observations (Rows): \n",
        "\n",
        "5. Subset Variables (Columns)  \n",
        "\n",
        "\n",
        "6. Visualizations    \n",
        "\n",
        "7. Transformation    \n",
        "a) Imputation  \n",
        "b) Imbalanced Data Handling   \n",
        "c) Outlier Detection   \n",
        "d)   \n",
        "\n"
      ]
    },
    {
      "cell_type": "markdown",
      "metadata": {
        "id": "c1N8dnTN8wR2",
        "colab_type": "text"
      },
      "source": [
        "## Libraries"
      ]
    },
    {
      "cell_type": "code",
      "metadata": {
        "id": "yZvp4i_96oY4",
        "colab_type": "code",
        "colab": {}
      },
      "source": [
        "import numpy as np\n",
        "import pandas as pd"
      ],
      "execution_count": 2,
      "outputs": []
    },
    {
      "cell_type": "markdown",
      "metadata": {
        "id": "40j7kD4e9QeJ",
        "colab_type": "text"
      },
      "source": [
        "### 1. Create Dataframe"
      ]
    },
    {
      "cell_type": "code",
      "metadata": {
        "id": "ovh8IDZoCq8C",
        "colab_type": "code",
        "colab": {
          "base_uri": "https://localhost:8080/",
          "height": 306
        },
        "outputId": "a61e29f3-927d-47e4-a0e0-651acc89bf39"
      },
      "source": [
        "## Create Empty Dataframe\n",
        "df_empty = pd.DataFrame()\n",
        "print(df_empty.shape)\n",
        "# print(df_empty.head())\n",
        "\n",
        "## Create Dataframe from Series\n",
        "s1 = pd.Series(data=None, dtype='string', name='s1')\n",
        "df_Series = pd.DataFrame(s1)\n",
        "print(df_Series.shape)\n",
        "# print(df_Series.head())\n",
        "\n",
        "## Creating Pandas DataFrame from lists of lists\n",
        "data_listoflist = [[101, 'Ashu'], [102,'Kwang'], [103,'Sandy']]\n",
        "df_listoflist = pd.DataFrame(data=data_listoflist, columns=['Id', 'Name'])\n",
        "print(df_listoflist.shape)\n",
        "# print(df_listoflist.head())\n",
        "\n",
        "## Create DataFrame from dict of narray/lists\n",
        "data_dict_1 = {'Id':[101, 102, 103], 'Name':['Ashu', 'Kwang', 'Sandy']}\n",
        "df_dict_1 = pd.DataFrame(data_dict)\n",
        "print(df_dict_1.shape)\n",
        "# print(df_dict_1.head())\n",
        "\n",
        "## Create Dataframe from list of dicts\n",
        "data_dict_2 = [{'Id': 101, 'Name': 'Ashu'}, {'Id': 102, 'Name': 'Kwang'}, {'Id': 103, 'Name': 'Sandy'}]\n",
        "df_dict_2 = pd.DataFrame(data_dict_2)\n",
        "print(df_dict_2.shape)\n",
        "# print(df_dict_2.head())\n",
        "\n",
        "# Create Dataframe by importing file\n",
        "df_csv = pd.read_csv(\"/content/drug200.csv\")\n",
        "print(df_csv.shape)\n",
        "df_csv.head()"
      ],
      "execution_count": 25,
      "outputs": [
        {
          "output_type": "stream",
          "text": [
            "(0, 0)\n",
            "(0, 1)\n",
            "(3, 2)\n",
            "(3, 2)\n",
            "(3, 2)\n",
            "(200, 6)\n"
          ],
          "name": "stdout"
        },
        {
          "output_type": "execute_result",
          "data": {
            "text/html": [
              "<div>\n",
              "<style scoped>\n",
              "    .dataframe tbody tr th:only-of-type {\n",
              "        vertical-align: middle;\n",
              "    }\n",
              "\n",
              "    .dataframe tbody tr th {\n",
              "        vertical-align: top;\n",
              "    }\n",
              "\n",
              "    .dataframe thead th {\n",
              "        text-align: right;\n",
              "    }\n",
              "</style>\n",
              "<table border=\"1\" class=\"dataframe\">\n",
              "  <thead>\n",
              "    <tr style=\"text-align: right;\">\n",
              "      <th></th>\n",
              "      <th>Age</th>\n",
              "      <th>Sex</th>\n",
              "      <th>BP</th>\n",
              "      <th>Cholesterol</th>\n",
              "      <th>Na_to_K</th>\n",
              "      <th>Drug</th>\n",
              "    </tr>\n",
              "  </thead>\n",
              "  <tbody>\n",
              "    <tr>\n",
              "      <th>0</th>\n",
              "      <td>23</td>\n",
              "      <td>F</td>\n",
              "      <td>HIGH</td>\n",
              "      <td>HIGH</td>\n",
              "      <td>25.355</td>\n",
              "      <td>DrugY</td>\n",
              "    </tr>\n",
              "    <tr>\n",
              "      <th>1</th>\n",
              "      <td>47</td>\n",
              "      <td>M</td>\n",
              "      <td>LOW</td>\n",
              "      <td>HIGH</td>\n",
              "      <td>13.093</td>\n",
              "      <td>drugC</td>\n",
              "    </tr>\n",
              "    <tr>\n",
              "      <th>2</th>\n",
              "      <td>47</td>\n",
              "      <td>M</td>\n",
              "      <td>LOW</td>\n",
              "      <td>HIGH</td>\n",
              "      <td>10.114</td>\n",
              "      <td>drugC</td>\n",
              "    </tr>\n",
              "    <tr>\n",
              "      <th>3</th>\n",
              "      <td>28</td>\n",
              "      <td>F</td>\n",
              "      <td>NORMAL</td>\n",
              "      <td>HIGH</td>\n",
              "      <td>7.798</td>\n",
              "      <td>drugX</td>\n",
              "    </tr>\n",
              "    <tr>\n",
              "      <th>4</th>\n",
              "      <td>61</td>\n",
              "      <td>F</td>\n",
              "      <td>LOW</td>\n",
              "      <td>HIGH</td>\n",
              "      <td>18.043</td>\n",
              "      <td>DrugY</td>\n",
              "    </tr>\n",
              "  </tbody>\n",
              "</table>\n",
              "</div>"
            ],
            "text/plain": [
              "   Age Sex      BP Cholesterol  Na_to_K   Drug\n",
              "0   23   F    HIGH        HIGH   25.355  DrugY\n",
              "1   47   M     LOW        HIGH   13.093  drugC\n",
              "2   47   M     LOW        HIGH   10.114  drugC\n",
              "3   28   F  NORMAL        HIGH    7.798  drugX\n",
              "4   61   F     LOW        HIGH   18.043  DrugY"
            ]
          },
          "metadata": {
            "tags": []
          },
          "execution_count": 25
        }
      ]
    },
    {
      "cell_type": "markdown",
      "metadata": {
        "id": "KbIOAsuVJlxx",
        "colab_type": "text"
      },
      "source": [
        "### 2. Column Transformations"
      ]
    },
    {
      "cell_type": "markdown",
      "metadata": {
        "id": "AXCEAQvMJtMC",
        "colab_type": "text"
      },
      "source": [
        "* Create New Columns"
      ]
    },
    {
      "cell_type": "code",
      "metadata": {
        "id": "8AYmd9wAEM_g",
        "colab_type": "code",
        "colab": {}
      },
      "source": [
        ""
      ],
      "execution_count": null,
      "outputs": []
    },
    {
      "cell_type": "code",
      "metadata": {
        "id": "dA1b8e2EJhfW",
        "colab_type": "code",
        "colab": {}
      },
      "source": [
        ""
      ],
      "execution_count": null,
      "outputs": []
    },
    {
      "cell_type": "code",
      "metadata": {
        "id": "1huju5voJhi_",
        "colab_type": "code",
        "colab": {}
      },
      "source": [
        ""
      ],
      "execution_count": null,
      "outputs": []
    },
    {
      "cell_type": "code",
      "metadata": {
        "id": "PCbi8B2jJhlF",
        "colab_type": "code",
        "colab": {}
      },
      "source": [
        ""
      ],
      "execution_count": null,
      "outputs": []
    },
    {
      "cell_type": "code",
      "metadata": {
        "id": "JfDeRmK3Jhm6",
        "colab_type": "code",
        "colab": {}
      },
      "source": [
        ""
      ],
      "execution_count": null,
      "outputs": []
    },
    {
      "cell_type": "code",
      "metadata": {
        "id": "fLnVtgGZJhqs",
        "colab_type": "code",
        "colab": {}
      },
      "source": [
        ""
      ],
      "execution_count": null,
      "outputs": []
    },
    {
      "cell_type": "code",
      "metadata": {
        "id": "PijXNrcMJhs3",
        "colab_type": "code",
        "colab": {}
      },
      "source": [
        ""
      ],
      "execution_count": null,
      "outputs": []
    },
    {
      "cell_type": "code",
      "metadata": {
        "id": "yE3au8g8Jhuu",
        "colab_type": "code",
        "colab": {}
      },
      "source": [
        ""
      ],
      "execution_count": null,
      "outputs": []
    },
    {
      "cell_type": "code",
      "metadata": {
        "id": "-dtnd45WJhww",
        "colab_type": "code",
        "colab": {}
      },
      "source": [
        ""
      ],
      "execution_count": null,
      "outputs": []
    },
    {
      "cell_type": "code",
      "metadata": {
        "id": "C3GJsOU7JhpF",
        "colab_type": "code",
        "colab": {}
      },
      "source": [
        ""
      ],
      "execution_count": null,
      "outputs": []
    },
    {
      "cell_type": "markdown",
      "metadata": {
        "id": "ESqvJxQ_C_UC",
        "colab_type": "text"
      },
      "source": [
        "#### Below are the other formats to import data in pandas.\n",
        "\n",
        "* #### excel   \n",
        "read_excel,   \n",
        "* #### parsers  \n",
        "read_csv,  \n",
        "read_fwf,  \n",
        "read_table,  \n",
        "* #### pickle   \n",
        "read_pickle,   \n",
        "* #### pytables   \n",
        "read_hdf,   \n",
        "* #### sql   \n",
        "read_sql,   \n",
        "read_sql_query,   \n",
        "read_sql_table,   \n",
        "* #### misc   \n",
        "read_clipboard,    \n",
        "read_parquet,    \n",
        "read_orc,   \n",
        "read_feather,   \n",
        "read_gbq,   \n",
        "read_html,   \n",
        "read_json,   \n",
        "read_stata,    \n",
        "read_sas,   \n",
        "read_spss    "
      ]
    }
  ]
}