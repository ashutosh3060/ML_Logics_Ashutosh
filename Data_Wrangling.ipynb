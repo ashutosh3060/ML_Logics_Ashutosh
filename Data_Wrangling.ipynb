{
  "nbformat": 4,
  "nbformat_minor": 0,
  "metadata": {
    "colab": {
      "name": "Data Wrangling.ipynb",
      "provenance": [],
      "collapsed_sections": [],
      "authorship_tag": "ABX9TyN9Tbs3PdLKEhr2wMIRGXD3",
      "include_colab_link": true
    },
    "kernelspec": {
      "name": "python3",
      "display_name": "Python 3"
    }
  },
  "cells": [
    {
      "cell_type": "markdown",
      "metadata": {
        "id": "view-in-github",
        "colab_type": "text"
      },
      "source": [
        "<a href=\"https://colab.research.google.com/github/ashutosh3060/python-tricks/blob/master/Data_Wrangling.ipynb\" target=\"_parent\"><img src=\"https://colab.research.google.com/assets/colab-badge.svg\" alt=\"Open In Colab\"/></a>"
      ]
    },
    {
      "cell_type": "markdown",
      "metadata": {
        "id": "Y11yewkO6NTN",
        "colab_type": "text"
      },
      "source": [
        "## Table of Contents\n",
        "\n",
        "1. Create Dataframe:   \n",
        "a) in Pandas    \n",
        "b) from Dictionary   \n",
        "c) from list   \n",
        "2. Column:     \n",
        "a) Create new columns       \n",
        "b) Rename columns      \n",
        "c) Drop Columns    \n",
        "d)  \n",
        "3. Index:   \n",
        "a) loc   \n",
        "b) iloc   \n",
        "4. Subset Observations (Rows): \n",
        "\n",
        "5. Subset Variables (Columns):\n"
      ]
    },
    {
      "cell_type": "code",
      "metadata": {
        "id": "yZvp4i_96oY4",
        "colab_type": "code",
        "colab": {}
      },
      "source": [
        ""
      ],
      "execution_count": null,
      "outputs": []
    }
  ]
}